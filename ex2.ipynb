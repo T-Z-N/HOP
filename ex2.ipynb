{
 "cells": [
  {
   "cell_type": "code",
   "execution_count": 19,
   "metadata": {},
   "outputs": [],
   "source": [
    "import pandas as pd"
   ]
  },
  {
   "cell_type": "code",
   "execution_count": 23,
   "metadata": {},
   "outputs": [],
   "source": [
    "df = pd.read_csv('2_ex_throws.csv')\n",
    "df = pd.DataFrame(df)"
   ]
  },
  {
   "cell_type": "code",
   "execution_count": 24,
   "metadata": {},
   "outputs": [
    {
     "data": {
      "text/html": [
       "<div>\n",
       "<style scoped>\n",
       "    .dataframe tbody tr th:only-of-type {\n",
       "        vertical-align: middle;\n",
       "    }\n",
       "\n",
       "    .dataframe tbody tr th {\n",
       "        vertical-align: top;\n",
       "    }\n",
       "\n",
       "    .dataframe thead th {\n",
       "        text-align: right;\n",
       "    }\n",
       "</style>\n",
       "<table border=\"1\" class=\"dataframe\">\n",
       "  <thead>\n",
       "    <tr style=\"text-align: right;\">\n",
       "      <th></th>\n",
       "      <th>v</th>\n",
       "      <th>theta</th>\n",
       "      <th>dist</th>\n",
       "    </tr>\n",
       "  </thead>\n",
       "  <tbody>\n",
       "    <tr>\n",
       "      <th>0</th>\n",
       "      <td>31.727921</td>\n",
       "      <td>0.949722</td>\n",
       "      <td>94.593658</td>\n",
       "    </tr>\n",
       "    <tr>\n",
       "      <th>1</th>\n",
       "      <td>31.652185</td>\n",
       "      <td>0.524767</td>\n",
       "      <td>88.020069</td>\n",
       "    </tr>\n",
       "    <tr>\n",
       "      <th>2</th>\n",
       "      <td>34.526779</td>\n",
       "      <td>0.874673</td>\n",
       "      <td>99.891108</td>\n",
       "    </tr>\n",
       "    <tr>\n",
       "      <th>3</th>\n",
       "      <td>27.315234</td>\n",
       "      <td>0.901622</td>\n",
       "      <td>66.981158</td>\n",
       "    </tr>\n",
       "    <tr>\n",
       "      <th>4</th>\n",
       "      <td>31.822862</td>\n",
       "      <td>0.844225</td>\n",
       "      <td>86.830228</td>\n",
       "    </tr>\n",
       "    <tr>\n",
       "      <th>...</th>\n",
       "      <td>...</td>\n",
       "      <td>...</td>\n",
       "      <td>...</td>\n",
       "    </tr>\n",
       "    <tr>\n",
       "      <th>95</th>\n",
       "      <td>27.704642</td>\n",
       "      <td>1.030652</td>\n",
       "      <td>62.036339</td>\n",
       "    </tr>\n",
       "    <tr>\n",
       "      <th>96</th>\n",
       "      <td>34.810773</td>\n",
       "      <td>0.243141</td>\n",
       "      <td>46.876095</td>\n",
       "    </tr>\n",
       "    <tr>\n",
       "      <th>97</th>\n",
       "      <td>30.208513</td>\n",
       "      <td>0.461905</td>\n",
       "      <td>68.643406</td>\n",
       "    </tr>\n",
       "    <tr>\n",
       "      <th>98</th>\n",
       "      <td>35.548190</td>\n",
       "      <td>0.819019</td>\n",
       "      <td>122.001340</td>\n",
       "    </tr>\n",
       "    <tr>\n",
       "      <th>99</th>\n",
       "      <td>32.742027</td>\n",
       "      <td>0.572373</td>\n",
       "      <td>86.003640</td>\n",
       "    </tr>\n",
       "  </tbody>\n",
       "</table>\n",
       "<p>100 rows × 3 columns</p>\n",
       "</div>"
      ],
      "text/plain": [
       "            v     theta        dist\n",
       "0   31.727921  0.949722   94.593658\n",
       "1   31.652185  0.524767   88.020069\n",
       "2   34.526779  0.874673   99.891108\n",
       "3   27.315234  0.901622   66.981158\n",
       "4   31.822862  0.844225   86.830228\n",
       "..        ...       ...         ...\n",
       "95  27.704642  1.030652   62.036339\n",
       "96  34.810773  0.243141   46.876095\n",
       "97  30.208513  0.461905   68.643406\n",
       "98  35.548190  0.819019  122.001340\n",
       "99  32.742027  0.572373   86.003640\n",
       "\n",
       "[100 rows x 3 columns]"
      ]
     },
     "execution_count": 24,
     "metadata": {},
     "output_type": "execute_result"
    }
   ],
   "source": [
    "df"
   ]
  },
  {
   "cell_type": "code",
   "execution_count": 29,
   "metadata": {},
   "outputs": [],
   "source": [
    "VelocitySeries = df['v']\n",
    "Theta =df['theta']\n",
    "Dist = df['dist']"
   ]
  },
  {
   "cell_type": "code",
   "execution_count": 28,
   "metadata": {},
   "outputs": [
    {
     "data": {
      "text/plain": [
       "0     31.727921\n",
       "1     31.652185\n",
       "2     34.526779\n",
       "3     27.315234\n",
       "4     31.822862\n",
       "        ...    \n",
       "95    27.704642\n",
       "96    34.810773\n",
       "97    30.208513\n",
       "98    35.548190\n",
       "99    32.742027\n",
       "Name: v, Length: 100, dtype: float64"
      ]
     },
     "execution_count": 28,
     "metadata": {},
     "output_type": "execute_result"
    }
   ],
   "source": [
    "VelocitySeries"
   ]
  },
  {
   "cell_type": "code",
   "execution_count": 30,
   "metadata": {},
   "outputs": [
    {
     "data": {
      "text/plain": [
       "0     0.949722\n",
       "1     0.524767\n",
       "2     0.874673\n",
       "3     0.901622\n",
       "4     0.844225\n",
       "        ...   \n",
       "95    1.030652\n",
       "96    0.243141\n",
       "97    0.461905\n",
       "98    0.819019\n",
       "99    0.572373\n",
       "Name: theta, Length: 100, dtype: float64"
      ]
     },
     "execution_count": 30,
     "metadata": {},
     "output_type": "execute_result"
    }
   ],
   "source": [
    "Theta"
   ]
  },
  {
   "cell_type": "code",
   "execution_count": 31,
   "metadata": {},
   "outputs": [
    {
     "data": {
      "text/plain": [
       "0      94.593658\n",
       "1      88.020069\n",
       "2      99.891108\n",
       "3      66.981158\n",
       "4      86.830228\n",
       "         ...    \n",
       "95     62.036339\n",
       "96     46.876095\n",
       "97     68.643406\n",
       "98    122.001340\n",
       "99     86.003640\n",
       "Name: dist, Length: 100, dtype: float64"
      ]
     },
     "execution_count": 31,
     "metadata": {},
     "output_type": "execute_result"
    }
   ],
   "source": [
    "Dist"
   ]
  },
  {
   "cell_type": "code",
   "execution_count": null,
   "metadata": {},
   "outputs": [],
   "source": []
  }
 ],
 "metadata": {
  "kernelspec": {
   "display_name": "Python 3.10.0 64-bit",
   "language": "python",
   "name": "python3"
  },
  "language_info": {
   "codemirror_mode": {
    "name": "ipython",
    "version": 3
   },
   "file_extension": ".py",
   "mimetype": "text/x-python",
   "name": "python",
   "nbconvert_exporter": "python",
   "pygments_lexer": "ipython3",
   "version": "3.10.0"
  },
  "orig_nbformat": 4,
  "vscode": {
   "interpreter": {
    "hash": "369f2c481f4da34e4445cda3fffd2e751bd1c4d706f27375911949ba6bb62e1c"
   }
  }
 },
 "nbformat": 4,
 "nbformat_minor": 2
}
